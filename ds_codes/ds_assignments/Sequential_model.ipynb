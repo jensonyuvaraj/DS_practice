{
 "cells": [
  {
   "cell_type": "code",
   "execution_count": 4,
   "id": "6dc6619f",
   "metadata": {},
   "outputs": [],
   "source": [
    "import os\n",
    "import random\n",
    "import shutil\n",
    "import tensorflow as tf\n",
    "from tensorflow.keras.models import Sequential\n",
    "from tensorflow.keras.layers import Conv2D, MaxPooling2D, Flatten, Dense\n",
    "from tensorflow.keras.preprocessing.image import ImageDataGenerator"
   ]
  },
  {
   "cell_type": "code",
   "execution_count": 3,
   "id": "1aabc678",
   "metadata": {},
   "outputs": [
    {
     "data": {
      "text/plain": [
       "0"
      ]
     },
     "execution_count": 3,
     "metadata": {},
     "output_type": "execute_result"
    }
   ],
   "source": [
    "os.system(\"pip install tensorflow\")"
   ]
  },
  {
   "cell_type": "code",
   "execution_count": 6,
   "id": "b5af3cb0",
   "metadata": {},
   "outputs": [],
   "source": [
    "datagen = ImageDataGenerator(\n",
    "    rotation_range=20,\n",
    "    width_shift_range=0.1,\n",
    "    height_shift_range=0.1,\n",
    "    shear_range=0.2,\n",
    "    zoom_range=0.2,\n",
    "    horizontal_flip=True,\n",
    "    fill_mode='nearest'\n",
    ")\n",
    "\n",
    "# Dataset directory path\n",
    "dataset_dir = 'D:\\\\VS Code workspace\\\\animals'\n",
    "\n",
    "# Create train and test directories\n",
    "train_dir = os.path.join(dataset_dir, 'train')\n",
    "test_dir = os.path.join(dataset_dir, 'test')\n",
    "\n",
    "if not os.path.exists(train_dir) or not os.path.exists(test_dir):\n",
    "    # Create train and test directories if they don't exist\n",
    "    os.makedirs(train_dir, exist_ok=True)\n",
    "    os.makedirs(test_dir, exist_ok=True)\n",
    "\n",
    "    # Iterate over class directories and split images into train and test directories\n",
    "    class_dirs = os.listdir(dataset_dir)\n",
    "    for class_dir in class_dirs:\n",
    "        if class_dir not in ['train', 'test']:\n",
    "            class_images_dir = os.path.join(dataset_dir, class_dir)\n",
    "            if os.path.isdir(class_images_dir):\n",
    "                image_files = os.listdir(class_images_dir)\n",
    "                random.shuffle(image_files)\n",
    "                num_train = int(0.8 * len(image_files))\n",
    "                train_files = image_files[:num_train]\n",
    "                test_files = image_files[num_train:]\n",
    "                for train_file in train_files:\n",
    "                    src_path = os.path.join(class_images_dir, train_file)\n",
    "                    dst_path = os.path.join(train_dir, class_dir, train_file)\n",
    "                    os.makedirs(os.path.dirname(dst_path), exist_ok=True)\n",
    "                    shutil.copy(src_path, dst_path)\n",
    "                for test_file in test_files:\n",
    "                    src_path = os.path.join(class_images_dir, test_file)\n",
    "                    dst_path = os.path.join(test_dir, class_dir, test_file)\n",
    "                    os.makedirs(os.path.dirname(dst_path), exist_ok=True)\n",
    "                    shutil.copy(src_path, dst_path)\n"
   ]
  },
  {
   "cell_type": "code",
   "execution_count": 7,
   "id": "38743bc8",
   "metadata": {},
   "outputs": [
    {
     "name": "stdout",
     "output_type": "stream",
     "text": [
      "Found 4320 images belonging to 90 classes.\n",
      "Found 1080 images belonging to 90 classes.\n"
     ]
    }
   ],
   "source": [
    "# Step 2: Load and Augment the Dataset\n",
    "train_data = datagen.flow_from_directory(\n",
    "    train_dir,\n",
    "    target_size=(224, 224),\n",
    "    batch_size=32,\n",
    "    class_mode='categorical'\n",
    ")\n",
    "\n",
    "test_data = datagen.flow_from_directory(\n",
    "    test_dir,\n",
    "    target_size=(224, 224),\n",
    "    batch_size=32,\n",
    "    class_mode='categorical',\n",
    "    shuffle=False\n",
    ")\n",
    "\n",
    "# Get the number of classes\n",
    "num_classes = len(train_data.class_indices)\n"
   ]
  },
  {
   "cell_type": "code",
   "execution_count": 8,
   "id": "25825bf0",
   "metadata": {},
   "outputs": [],
   "source": [
    "# Step 3: Build the CNN Model\n",
    "model = Sequential()\n",
    "\n",
    "# Add convolutional and pooling layers\n",
    "model.add(Conv2D(32, (3, 3), activation='relu', input_shape=(224, 224, 3)))\n",
    "model.add(MaxPooling2D((2, 2)))\n",
    "\n",
    "# Add a flatten layer\n",
    "model.add(Flatten())\n",
    "\n",
    "# Add hidden layers\n",
    "model.add(Dense(64, activation='relu'))\n",
    "model.add(Dense(32, activation='relu'))\n",
    "\n",
    "# Add the output layer\n",
    "model.add(Dense(num_classes, activation='softmax'))\n"
   ]
  },
  {
   "cell_type": "code",
   "execution_count": 9,
   "id": "37c9b267",
   "metadata": {},
   "outputs": [
    {
     "name": "stdout",
     "output_type": "stream",
     "text": [
      "Epoch 1/10\n",
      "135/135 [==============================] - 271s 2s/step - loss: 121.0469 - accuracy: 0.0100\n",
      "Epoch 2/10\n",
      "135/135 [==============================] - 161s 1s/step - loss: 4.5004 - accuracy: 0.0056\n",
      "Epoch 3/10\n",
      "135/135 [==============================] - 156s 1s/step - loss: 4.5002 - accuracy: 0.0076\n",
      "Epoch 4/10\n",
      "135/135 [==============================] - 160s 1s/step - loss: 4.5016 - accuracy: 0.0067\n",
      "Epoch 5/10\n",
      "135/135 [==============================] - 159s 1s/step - loss: 4.5122 - accuracy: 0.0088\n",
      "Epoch 6/10\n",
      "135/135 [==============================] - 157s 1s/step - loss: 4.5070 - accuracy: 0.0079\n",
      "Epoch 7/10\n",
      "135/135 [==============================] - 157s 1s/step - loss: 4.5005 - accuracy: 0.0086\n",
      "Epoch 8/10\n",
      "135/135 [==============================] - 159s 1s/step - loss: 4.5005 - accuracy: 0.0072\n",
      "Epoch 9/10\n",
      "135/135 [==============================] - 161s 1s/step - loss: 4.5006 - accuracy: 0.0074\n",
      "Epoch 10/10\n",
      "135/135 [==============================] - 156s 1s/step - loss: 4.5005 - accuracy: 0.0060\n",
      "34/34 [==============================] - 45s 1s/step - loss: 4.4998 - accuracy: 0.0111\n",
      "Test Loss: 4.499813079833984\n",
      "Test Accuracy: 0.011111111380159855\n"
     ]
    }
   ],
   "source": [
    "# Step 4: Compile and Train the Model\n",
    "model.compile(optimizer='adam', loss='categorical_crossentropy', metrics=['accuracy'])\n",
    "\n",
    "# Train the model\n",
    "model.fit(train_data, epochs=10)\n",
    "\n",
    "# Step 5: Evaluate the Model\n",
    "loss, accuracy = model.evaluate(test_data)\n",
    "print('Test Loss:', loss)\n",
    "print('Test Accuracy:', accuracy)"
   ]
  },
  {
   "cell_type": "code",
   "execution_count": null,
   "id": "be5b37db",
   "metadata": {},
   "outputs": [],
   "source": []
  }
 ],
 "metadata": {
  "kernelspec": {
   "display_name": "Python 3 (ipykernel)",
   "language": "python",
   "name": "python3"
  },
  "language_info": {
   "codemirror_mode": {
    "name": "ipython",
    "version": 3
   },
   "file_extension": ".py",
   "mimetype": "text/x-python",
   "name": "python",
   "nbconvert_exporter": "python",
   "pygments_lexer": "ipython3",
   "version": "3.10.9"
  }
 },
 "nbformat": 4,
 "nbformat_minor": 5
}
